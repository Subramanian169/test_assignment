{
 "cells": [
  {
   "cell_type": "code",
   "execution_count": 1,
   "metadata": {},
   "outputs": [
    {
     "name": "stdout",
     "output_type": "stream",
     "text": [
      "a=10\n",
      "b=6\n",
      "c=17\n",
      "area : (1.4529784002395237e-15+23.72893802933456j)\n"
     ]
    }
   ],
   "source": [
    "#Q1.1 Write a Python Program(with class concepts) to find the area of the triangle using the below formula. \n",
    "\n",
    "#area = (s*(s-a)*(s-b)*(s-c)) ** 0.5 \n",
    "\n",
    "# Function to take the length of the sides of triangle from user should be defined in the parent class\n",
    "# and function to calculate the area should be defined in subclass. \n",
    "\n",
    "class poly:\n",
    "    def __init__(self,a,b,c):\n",
    "        self.a = float(a)\n",
    "        self.b = float(b)\n",
    "        self.c = float(c)\n",
    "a= int(input(\"a=\"))\n",
    "b= int(input(\"b=\"))\n",
    "c= int(input(\"c=\"))\n",
    "\n",
    "class triangle(poly):\n",
    "    def __init__(self,a,b,c):\n",
    "        super().__init__(a,b,c)\n",
    "\n",
    "    def get_area(self):\n",
    "        s = (a + b + c) / 2\n",
    "        return (s*(s-a)*(s-b)*(s-c)) ** 0.5        \n",
    "\n",
    "t = triangle(a,b,c)\n",
    "print(\"area : {}\".format(t.get_area()))"
   ]
  },
  {
   "cell_type": "code",
   "execution_count": 2,
   "metadata": {},
   "outputs": [
    {
     "name": "stdout",
     "output_type": "stream",
     "text": [
      "['live', 'Chennai']\n"
     ]
    }
   ],
   "source": [
    "# Q1.2 Write a function filter_long_words() that takes a list of words and an integer n \n",
    "# and returns the list of words that are longer than n. \n",
    "\n",
    "def filter_long_words(n, str):\n",
    "    word_len = []\n",
    "    txt = str.split(\" \")\n",
    "    for x in txt:\n",
    "        if len(x) > n:\n",
    "            word_len.append(x)\n",
    "    return word_len\n",
    "\n",
    "print(filter_long_words(2, \"We live in Chennai\"))"
   ]
  },
  {
   "cell_type": "code",
   "execution_count": 3,
   "metadata": {},
   "outputs": [
    {
     "name": "stdout",
     "output_type": "stream",
     "text": [
      "Enter words : one, three, five, eleven, twenty one\n",
      "Length of Words are : [3, 5, 4, 6, 10]\n"
     ]
    }
   ],
   "source": [
    "# Q2.1 Write a Python program using function concept that maps list of words into a list of \n",
    "#  integers representing the lengths of the corresponding words. \n",
    "\n",
    "def words_to_length(List):\n",
    "    return list(map(len, List))\n",
    "\n",
    "word_List=list(input(\"Enter words : \").split(\",\"))\n",
    "List = []\n",
    "List=[x.strip() for x in word_List]\n",
    "\n",
    "word_lengths=words_to_length(List)\n",
    "                \n",
    "print(\"Length of Words are :\", word_lengths)\n",
    "   "
   ]
  },
  {
   "cell_type": "code",
   "execution_count": 4,
   "metadata": {},
   "outputs": [
    {
     "data": {
      "text/plain": [
       "True"
      ]
     },
     "execution_count": 4,
     "metadata": {},
     "output_type": "execute_result"
    }
   ],
   "source": [
    "# 2.2 Write a Python function which takes a character (i.e. a string of length 1) \n",
    "# and returns True if it is a vowel, False otherwise. \n",
    "\n",
    "\n",
    "def isVowel(char):\n",
    "    '''\n",
    "    char: a single letter of any case\n",
    "\n",
    "    returns: True if char is a vowel and False otherwise.\n",
    "    '''\n",
    "    if char == 'a' or 'e' or 'i' or 'o' or 'u' or 'A' or 'E' or 'I' or 'O' or 'U':\n",
    "        return True\n",
    "    else:\n",
    "        return False\n",
    "               \n",
    "isVowel('o')"
   ]
  },
  {
   "cell_type": "code",
   "execution_count": null,
   "metadata": {},
   "outputs": [],
   "source": []
  }
 ],
 "metadata": {
  "kernelspec": {
   "display_name": "Python 3",
   "language": "python",
   "name": "python3"
  },
  "language_info": {
   "codemirror_mode": {
    "name": "ipython",
    "version": 3
   },
   "file_extension": ".py",
   "mimetype": "text/x-python",
   "name": "python",
   "nbconvert_exporter": "python",
   "pygments_lexer": "ipython3",
   "version": "3.8.3"
  }
 },
 "nbformat": 4,
 "nbformat_minor": 4
}
